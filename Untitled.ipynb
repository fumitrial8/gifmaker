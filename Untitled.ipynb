{
 "cells": [
  {
   "cell_type": "code",
   "execution_count": 8,
   "metadata": {},
   "outputs": [],
   "source": [
    "import cv2\n",
    "import numpy as np\n",
    "from PIL import Image, ImageDraw"
   ]
  },
  {
   "cell_type": "code",
   "execution_count": 16,
   "metadata": {},
   "outputs": [],
   "source": [
    "title = 'yolov3_tiny_001.avi'\n",
    "beta = 1.0\n",
    "cap = cv2.VideoCapture(title)\n",
    "fps = int(cap.get(cv2.CAP_PROP_FPS))                    # カメラのFPSを取得\n",
    "width = int(cap.get(cv2.CAP_PROP_FRAME_WIDTH) * beta)              # カメラの横幅を取得\n",
    "height = int(cap.get(cv2.CAP_PROP_FRAME_HEIGHT) * beta)             # カメラの縦幅を取得\n",
    "\n",
    "j = 0\n",
    "images = []\n",
    "while True:\n",
    "    j += 1\n",
    "    ret, frame = cap.read()\n",
    "    if j > 130 and j%5 ==0:\n",
    "        image = cv2.cvtColor(frame, cv2.COLOR_BGR2RGB)\n",
    "        img = Image.fromarray(image)\n",
    "        images.append(img)\n",
    "    if not ret:\n",
    "        break\n",
    "    if j ==230:\n",
    "        break\n",
    "images[0].save('yolov3_tiny_001.gif',save_all=True, append_images=images[1:], optimize=False, duration=60, loop=0)\n",
    "cap.release()"
   ]
  },
  {
   "cell_type": "code",
   "execution_count": null,
   "metadata": {},
   "outputs": [],
   "source": []
  }
 ],
 "metadata": {
  "kernelspec": {
   "display_name": "Python 3.7.3 64-bit",
   "language": "python",
   "name": "python37364bit98e3dd4cb687498191a5f3f89c1df11c"
  },
  "language_info": {
   "codemirror_mode": {
    "name": "ipython",
    "version": 3
   },
   "file_extension": ".py",
   "mimetype": "text/x-python",
   "name": "python",
   "nbconvert_exporter": "python",
   "pygments_lexer": "ipython3",
   "version": "3.7.3"
  }
 },
 "nbformat": 4,
 "nbformat_minor": 4
}
