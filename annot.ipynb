{
 "cells": [
  {
   "cell_type": "code",
   "execution_count": 2,
   "metadata": {},
   "outputs": [],
   "source": [
    "import cv2\n",
    "import numpy as np\n",
    "\n",
    "from glob import glob"
   ]
  },
  {
   "cell_type": "code",
   "execution_count": 10,
   "metadata": {},
   "outputs": [],
   "source": [
    "folder1 = './movies/HDR1/'\n",
    "folder2 = './movies/HDR2/'\n",
    "\n",
    "beta = 1.0\n",
    "camera_id = 0\n",
    "movies = sorted(glob(folder1+'*.mp4'))\n",
    "\n",
    "for movie in movies:    \n",
    "    cap = cv2.VideoCapture(movie)\n",
    "    fps = int(cap.get(cv2.CAP_PROP_FPS))                    # カメラのFPSを取得\n",
    "    width = int(cap.get(cv2.CAP_PROP_FRAME_WIDTH) * beta)              # カメラの横幅を取得\n",
    "    height = int(cap.get(cv2.CAP_PROP_FRAME_HEIGHT) * beta)             # カメラの縦幅を取得\n",
    "    j = 0\n",
    "    while True:\n",
    "        \n",
    "        ret, frame = cap.read()\n",
    "        if j%450 ==0:\n",
    "            cv2.imwrite('./annot_data/%s_%s.jpg' % (str(camera_id).zfill(3), str(j).zfill(5)), frame)\n",
    "            \n",
    "            \n",
    "        if not ret:\n",
    "            break\n",
    "        j += 1\n",
    "    cap.release()\n",
    "    camera_id += 1\n",
    "\n",
    "movies = sorted(glob(folder2+'*.mp4'))\n",
    "\n",
    "for movie in movies:    \n",
    "    cap = cv2.VideoCapture(movie)\n",
    "    fps = int(cap.get(cv2.CAP_PROP_FPS))                    # カメラのFPSを取得\n",
    "    width = int(cap.get(cv2.CAP_PROP_FRAME_WIDTH) * beta)              # カメラの横幅を取得\n",
    "    height = int(cap.get(cv2.CAP_PROP_FRAME_HEIGHT) * beta)             # カメラの縦幅を取得\n",
    "    j = 0\n",
    "    while True:\n",
    "        \n",
    "        ret, frame = cap.read()\n",
    "        if j%450 ==0:\n",
    "            cv2.imwrite('./annot_data/%s_%s.jpg' % (str(camera_id).zfill(3), str(j).zfill(5)), frame)\n",
    "            \n",
    "            \n",
    "        if not ret:\n",
    "            break\n",
    "        j += 1\n",
    "    cap.release()\n",
    "    camera_id += 1"
   ]
  },
  {
   "cell_type": "code",
   "execution_count": null,
   "metadata": {},
   "outputs": [],
   "source": []
  }
 ],
 "metadata": {
  "kernelspec": {
   "display_name": "Python 3.7.3 64-bit",
   "language": "python",
   "name": "python37364bit98e3dd4cb687498191a5f3f89c1df11c"
  },
  "language_info": {
   "codemirror_mode": {
    "name": "ipython",
    "version": 3
   },
   "file_extension": ".py",
   "mimetype": "text/x-python",
   "name": "python",
   "nbconvert_exporter": "python",
   "pygments_lexer": "ipython3",
   "version": "3.7.3"
  }
 },
 "nbformat": 4,
 "nbformat_minor": 4
}
